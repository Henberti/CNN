{
 "cells": [
  {
   "cell_type": "code",
   "execution_count": 1,
   "metadata": {},
   "outputs": [],
   "source": [
    "\n",
    "\n",
    "import numpy as np\n",
    "from keras.datasets import mnist\n",
    "\n",
    "\n",
    "\n",
    "\n",
    "(x_train, y_train), (x_test, y_test) = mnist.load_data()"
   ]
  },
  {
   "cell_type": "markdown",
   "metadata": {},
   "source": []
  },
  {
   "cell_type": "code",
   "execution_count": 2,
   "metadata": {},
   "outputs": [
    {
     "ename": "ImportError",
     "evalue": "cannot import name 'Conv2' from partially initialized module 'Convolution' (most likely due to a circular import) (/Users/henberti/pythonProject/Cfnn/Convolution.py)",
     "output_type": "error",
     "traceback": [
      "\u001B[0;31m---------------------------------------------------------------------------\u001B[0m",
      "\u001B[0;31mImportError\u001B[0m                               Traceback (most recent call last)",
      "Cell \u001B[0;32mIn[2], line 1\u001B[0m\n\u001B[0;32m----> 1\u001B[0m \u001B[39mfrom\u001B[39;00m \u001B[39mtest\u001B[39;00m \u001B[39mimport\u001B[39;00m conTest\n\u001B[1;32m      3\u001B[0m conTest(x_train[:\u001B[39m100\u001B[39m],\u001B[39m5\u001B[39m)\n",
      "File \u001B[0;32m~/pythonProject/Cfnn/test.py:2\u001B[0m\n\u001B[1;32m      1\u001B[0m \u001B[39mimport\u001B[39;00m \u001B[39mnumpy\u001B[39;00m \u001B[39mas\u001B[39;00m \u001B[39mnp\u001B[39;00m\n\u001B[0;32m----> 2\u001B[0m \u001B[39mfrom\u001B[39;00m \u001B[39mConvolution\u001B[39;00m \u001B[39mimport\u001B[39;00m Conv2\n\u001B[1;32m      3\u001B[0m \u001B[39mfrom\u001B[39;00m \u001B[39mfunctions\u001B[39;00m \u001B[39mimport\u001B[39;00m  fast_convolution, fast_cross_correlation\n\u001B[1;32m      4\u001B[0m \u001B[39mimport\u001B[39;00m \u001B[39mtime\u001B[39;00m\n",
      "File \u001B[0;32m~/pythonProject/Cfnn/Convolution.py:4\u001B[0m\n\u001B[1;32m      2\u001B[0m \u001B[39mfrom\u001B[39;00m \u001B[39mfunctions\u001B[39;00m \u001B[39mimport\u001B[39;00m he_normal, fast_convolution, fast_cross_correlation\n\u001B[1;32m      3\u001B[0m \u001B[39mfrom\u001B[39;00m \u001B[39mconcurrent\u001B[39;00m\u001B[39m.\u001B[39;00m\u001B[39mfutures\u001B[39;00m \u001B[39mimport\u001B[39;00m ThreadPoolExecutor\n\u001B[0;32m----> 4\u001B[0m \u001B[39mimport\u001B[39;00m \u001B[39mmain\u001B[39;00m\n\u001B[1;32m      7\u001B[0m \u001B[39mclass\u001B[39;00m \u001B[39mConv2\u001B[39;00m:\n\u001B[1;32m      9\u001B[0m     \u001B[39mdef\u001B[39;00m \u001B[39m__init__\u001B[39m(\u001B[39mself\u001B[39m,n_filters, filter_shape\u001B[39m=\u001B[39m(\u001B[39m3\u001B[39m,\u001B[39m3\u001B[39m), stride\u001B[39m=\u001B[39m\u001B[39m1\u001B[39m):\n",
      "File \u001B[0;32m~/pythonProject/Cfnn/main.py:1\u001B[0m\n\u001B[0;32m----> 1\u001B[0m \u001B[39mfrom\u001B[39;00m \u001B[39mConvolution\u001B[39;00m \u001B[39mimport\u001B[39;00m Conv2\n\u001B[1;32m      2\u001B[0m \u001B[39mfrom\u001B[39;00m \u001B[39mactivation\u001B[39;00m \u001B[39mimport\u001B[39;00m Relu\n\u001B[1;32m      3\u001B[0m \u001B[39mfrom\u001B[39;00m \u001B[39mpooling\u001B[39;00m \u001B[39mimport\u001B[39;00m MaxPool\n",
      "\u001B[0;31mImportError\u001B[0m: cannot import name 'Conv2' from partially initialized module 'Convolution' (most likely due to a circular import) (/Users/henberti/pythonProject/Cfnn/Convolution.py)"
     ]
    }
   ],
   "source": [
    "from test import conTest\n",
    "\n",
    "conTest(x_train[:100],5)"
   ]
  },
  {
   "attachments": {},
   "cell_type": "markdown",
   "metadata": {},
   "source": []
  }
 ],
 "metadata": {
  "kernelspec": {
   "display_name": "venv",
   "language": "python",
   "name": "python3"
  },
  "language_info": {
   "codemirror_mode": {
    "name": "ipython",
    "version": 3
   },
   "file_extension": ".py",
   "mimetype": "text/x-python",
   "name": "python",
   "nbconvert_exporter": "python",
   "pygments_lexer": "ipython3",
   "version": "3.11.2"
  },
  "orig_nbformat": 4
 },
 "nbformat": 4,
 "nbformat_minor": 2
}
